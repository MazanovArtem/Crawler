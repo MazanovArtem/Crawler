{
 "cells": [
  {
   "cell_type": "markdown",
   "metadata": {},
   "source": [
    "### Мазанов Артем"
   ]
  },
  {
   "cell_type": "markdown",
   "metadata": {},
   "source": [
    "## Домашнее задание 1"
   ]
  },
  {
   "cell_type": "markdown",
   "metadata": {},
   "source": [
    "Данное домашнее задание я разделил на 3 логические части: \n",
    "\n",
    "1) *Кроулинг сайта*\n",
    "\n",
    "2) *Анализ графа сайта*\n",
    "\n",
    "3) *Анализ текстов статей*"
   ]
  },
  {
   "cell_type": "markdown",
   "metadata": {},
   "source": [
    "## Кроулинг сайта"
   ]
  },
  {
   "cell_type": "markdown",
   "metadata": {},
   "source": [
    "Кроулинг сайта я делал с помощью **scrapy**. В архиве приложен проект с пауком **wiki_spider.py**, и его настройками **settings.py**. Собственно, паук обходил только сайты, начинающиеся с **https://simple.wikipedia.org/wiki/**, при этом игнорируя ссылки с *namespaces*, за исключением **Category**. Запоминал пройденные страницы, запоминал соответствия для файла **urls**. В конце работы он записывал файл **urls.txt**, в папке **docs** скачанные странице. "
   ]
  },
  {
   "cell_type": "markdown",
   "metadata": {},
   "source": [
    "## Анализ текста"
   ]
  },
  {
   "cell_type": "markdown",
   "metadata": {},
   "source": [
    "В этом файле я выделяю текст в статьях для последующего анализа. Для этого мы проигнорируем страницы с **\"Category:\"** в url, так как это страницы со ссылками, не содержащие текста, но для создания графа они необходимы. Для получения текста из страниц уберем таблицы (это спорный момент, но я решил убрать их), описания фотографий, ссылки и выделим текст."
   ]
  },
  {
   "cell_type": "code",
   "execution_count": 37,
   "metadata": {
    "collapsed": false
   },
   "outputs": [],
   "source": [
    "import requests\n",
    "import os\n",
    "from bs4 import BeautifulSoup\n",
    "\n",
    "\n",
    "html_to_url = dict()\n",
    "url_to_html = dict()\n",
    "\n",
    "with open('urls.txt', 'r') as f:\n",
    "    lines = f.read().split('\\n')\n",
    "    for line in lines:\n",
    "        elems = line.split('\\t')\n",
    "        html_to_url[elems[0]] = elems[1]\n",
    "        url_to_html[elems[1]] = elems[0]\n",
    "\n",
    "for i, file_name in enumerate(os.listdir('docs')):\n",
    "    if 'Category:' in html_to_url[file_name]:\n",
    "        continue\n",
    "    with open('docs/' + file_name, 'r') as f:\n",
    "        soup = BeautifulSoup(f, 'lxml')\n",
    "        soup = soup.find(id=\"mw-content-text\")\n",
    "        [elem.extract() for elem in soup.find_all('table')]\n",
    "        [elem.extract() for elem in soup.find_all('div')]\n",
    "        [elem.extract() for elem in soup.find_all('sup',{'class':'reference'})]\n",
    "        [elem.extract() for elem in soup.find_all('span',{'class':'mw-editsection'})]\n",
    "        text = u' '.join(soup.get_text().split()).encode('utf-8')\n",
    "        path = file_name[:-5] + '.txt'\n",
    "        with open('txt_docs/' + path, 'w') as ff:\n",
    "            ff.write(text)"
   ]
  },
  {
   "cell_type": "markdown",
   "metadata": {},
   "source": [
    "Получили папку **txt_docs** с .txt документами. Теперь соберем статистику по ним. Для начала построим гистограмму распределения размера документов:"
   ]
  },
  {
   "cell_type": "code",
   "execution_count": 56,
   "metadata": {
    "collapsed": false
   },
   "outputs": [],
   "source": [
    "sizes = list()\n",
    "for i, file_name in enumerate(os.listdir('txt_docs')):\n",
    "    sizes.append(float(os.path.getsize('txt_docs/' + file_name)) / 1024)"
   ]
  },
  {
   "cell_type": "code",
   "execution_count": 57,
   "metadata": {
    "collapsed": false
   },
   "outputs": [],
   "source": [
    "import matplotlib.pyplot as plt\n",
    "%matplotlib inline"
   ]
  },
  {
   "cell_type": "code",
   "execution_count": 58,
   "metadata": {
    "collapsed": false
   },
   "outputs": [
    {
     "data": {
      "image/png": "[encoded data removed]",
      "text/plain": [
       "<matplotlib.figure.Figure at 0x5b077ef0>"
      ]
     },
     "metadata": {},
     "output_type": "display_data"
    },
    {
     "name": "stdout",
     "output_type": "stream",
     "text": [
      "192.91015625\n"
     ]
    }
   ],
   "source": [
    "num_bins = 50\n",
    "plt.figure(figsize = (16,5))\n",
    "n, bins, patches = plt.hist(sizes, num_bins, facecolor='blue')\n",
    "plt.yscale('log', nonposy = 'clip')\n",
    "plt.show()\n",
    "print max(sizes)"
   ]
  },
  {
   "cell_type": "markdown",
   "metadata": {},
   "source": [
    "Далее посчитаем для каждого слова количество его вхождений в коллекцию и построим гистограмму:"
   ]
  },
  {
   "cell_type": "code",
   "execution_count": 72,
   "metadata": {
    "collapsed": false
   },
   "outputs": [
    {
     "name": "stdout",
     "output_type": "stream",
     "text": [
      "Processing 142903"
     ]
    }
   ],
   "source": [
    "import sys\n",
    "import re\n",
    "\n",
    "word_stat = dict()\n",
    "for i, file_name in enumerate(os.listdir('txt_docs')):\n",
    "    sys.stdout.write(\"\\rProcessing {0}\".format(i))\n",
    "    with open('txt_docs/' + file_name, 'r') as f:\n",
    "        words = re.findall(r'\\b[a-z]+\\b',f.read().lower()) \n",
    "        for word in words:\n",
    "            if word_stat.get(word) is None:\n",
    "                word_stat[word] = 1\n",
    "            else:\n",
    "                word_stat[word] += 1"
   ]
  },
  {
   "cell_type": "code",
   "execution_count": 73,
   "metadata": {
    "collapsed": true
   },
   "outputs": [],
   "source": [
    "values = word_stat.values()"
   ]
  },
  {
   "cell_type": "code",
   "execution_count": 87,
   "metadata": {
    "collapsed": false
   },
   "outputs": [
    {
     "data": {
      "image/png": "[encoded data removed]",
      "text/plain": [
       "<matplotlib.figure.Figure at 0x6343b940>"
      ]
     },
     "metadata": {},
     "output_type": "display_data"
    },
    {
     "name": "stdout",
     "output_type": "stream",
     "text": [
      "2156171\n"
     ]
    }
   ],
   "source": [
    "num_bins = 50\n",
    "plt.figure(figsize = (16,5))\n",
    "n, bins, patches = plt.hist(values, num_bins, facecolor='blue')\n",
    "plt.yscale('log', nonposy = 'clip')\n",
    "plt.show()\n",
    "print max(values)"
   ]
  },
  {
   "cell_type": "code",
   "execution_count": 102,
   "metadata": {
    "collapsed": false
   },
   "outputs": [],
   "source": [
    "import operator\n",
    "sorted_word_stat = sorted(word_stat.items(), key=operator.itemgetter(1), reverse = True)"
   ]
  },
  {
   "cell_type": "code",
   "execution_count": 105,
   "metadata": {
    "collapsed": false
   },
   "outputs": [
    {
     "name": "stdout",
     "output_type": "stream",
     "text": [
      "the 2156171\n",
      "of 1074014\n",
      "in 841986\n",
      "and 819370\n",
      "a 710329\n",
      "to 553942\n",
      "is 553261\n",
      "was 333492\n",
      "it 255385\n",
      "for 230186\n",
      "on 207897\n",
      "are 205857\n",
      "as 203299\n",
      "he 194096\n",
      "by 191568\n",
      "that 187600\n",
      "s 179212\n",
      "with 163306\n",
      "from 159930\n",
      "at 143349\n"
     ]
    }
   ],
   "source": [
    "for word, amount in sorted_word_stat[:20]:\n",
    "    print word, amount"
   ]
  },
  {
   "cell_type": "markdown",
   "metadata": {},
   "source": [
    "Как видно, есть несколько слов, которые встречаются **очень** часто и гистограмма очень малоинформативна. Поэтому отсечем хвосты и построим новую гистограмму:"
   ]
  },
  {
   "cell_type": "code",
   "execution_count": 88,
   "metadata": {
    "collapsed": false
   },
   "outputs": [
    {
     "data": {
      "image/png": "[encoded data removed]",
      "text/plain": [
       "<matplotlib.figure.Figure at 0x63b21828>"
      ]
     },
     "metadata": {},
     "output_type": "display_data"
    }
   ],
   "source": [
    "num_bins = 50\n",
    "plt.figure(figsize = (16,5))\n",
    "n, bins, patches = plt.hist(values, num_bins, facecolor='blue', range = (0, 40000))\n",
    "plt.yscale('log', nonposy = 'clip')\n",
    "plt.show()"
   ]
  },
  {
   "cell_type": "markdown",
   "metadata": {},
   "source": [
    "Больше анализа текста не требуется. Анализ графа (in/out, расстояние от главной страницы и диаграмма распределения и PageRank) будут в следующем ipynb"
   ]
  }
 ],
 "metadata": {
  "kernelspec": {
   "display_name": "Python 2",
   "language": "python",
   "name": "python2"
  },
  "language_info": {
   "codemirror_mode": {
    "name": "ipython",
    "version": 2
   },
   "file_extension": ".py",
   "mimetype": "text/x-python",
   "name": "python",
   "nbconvert_exporter": "python",
   "pygments_lexer": "ipython2",
   "version": "2.7.9"
  }
 },
 "nbformat": 4,
 "nbformat_minor": 0
}
