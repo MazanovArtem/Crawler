{
 "cells": [
  {
   "cell_type": "markdown",
   "metadata": {},
   "source": [
    "## Анализ графа"
   ]
  },
  {
   "cell_type": "markdown",
   "metadata": {},
   "source": [
    "В данном файле будет анализ графа. Для начала, надо бы построить граф:"
   ]
  },
  {
   "cell_type": "code",
   "execution_count": 31,
   "metadata": {
    "collapsed": true
   },
   "outputs": [],
   "source": [
    "import requests\n",
    "import os\n",
    "from bs4 import BeautifulSoup\n",
    "import copy\n",
    "import sys\n",
    "\n",
    "\n",
    "html_to_url = dict()\n",
    "url_to_html = dict()\n",
    "\n",
    "with open('urls.txt', 'r') as f:\n",
    "    lines = f.read().split('\\n')\n",
    "    for line in lines:\n",
    "        elems = line.split('\\t')\n",
    "        html_to_url[elems[0]] = elems[1]\n",
    "        url_to_html[elems[1]] = elems[0] "
   ]
  },
  {
   "cell_type": "code",
   "execution_count": 32,
   "metadata": {
    "collapsed": false,
    "scrolled": false
   },
   "outputs": [
    {
     "name": "stdout",
     "output_type": "stream",
     "text": [
      "Processing 171372"
     ]
    }
   ],
   "source": [
    "adj_list_out = dict()\n",
    "adj_list_in = dict()\n",
    "depths = dict()\n",
    "link_list = list()\n",
    "new_link_list = list()\n",
    "unique_links = set()\n",
    "\n",
    "path = html_to_url['1.html']\n",
    "link_list.append(path)\n",
    "depth = 1\n",
    "count = 0\n",
    "while True:\n",
    "    for path in link_list:\n",
    "        count += 1\n",
    "        sys.stdout.write(\"\\rProcessing {0}\".format(count))\n",
    "        depths[path] = depth\n",
    "        f = open('docs/' + url_to_html[path], 'r')\n",
    "        soup = BeautifulSoup(f, 'lxml')\n",
    "        f.close()\n",
    "        urls = [x.get('href') for x in soup.findAll('a')]\n",
    "        for link in ['https://simple.wikipedia.org' + x for x in urls if x and x[0] == '/' and len(x) > 1 and x[1] != '/']:\n",
    "            if url_to_html.get(link) is not None:\n",
    "                if adj_list_out.get(path) == None:\n",
    "                    adj_list_out[path] = [link]\n",
    "                else:\n",
    "                    adj_list_out[path].append(link)\n",
    "                if adj_list_in.get(link) == None:\n",
    "                    adj_list_in[link] = [path]\n",
    "                else:\n",
    "                    adj_list_in[link].append(path)\n",
    "                if link not in unique_links:\n",
    "                    unique_links.add(link)\n",
    "                    new_link_list.append(link)\n",
    "    if len(new_link_list) == 0:\n",
    "        break\n",
    "    link_list = copy.copy(new_link_list)\n",
    "    depth += 1\n",
    "    new_link_list = []"
   ]
  },
  {
   "cell_type": "code",
   "execution_count": 51,
   "metadata": {
    "collapsed": false
   },
   "outputs": [],
   "source": [
    "for key in depths:\n",
    "    depths[key] -= 1"
   ]
  },
  {
   "cell_type": "markdown",
   "metadata": {},
   "source": [
    "Попутно мы собрали немного статистики: в depths лежат глубины при обходе в ширину. В adj_list_in и adj_list_out лежат входящие и выходящие ребра соответственно. Построим гистограмму по глубинам:"
   ]
  },
  {
   "cell_type": "code",
   "execution_count": 52,
   "metadata": {
    "collapsed": true
   },
   "outputs": [],
   "source": [
    "import matplotlib.pyplot as plt\n",
    "%matplotlib inline"
   ]
  },
  {
   "cell_type": "code",
   "execution_count": 53,
   "metadata": {
    "collapsed": false
   },
   "outputs": [
    {
     "data": {
      "image/png": "[encoded data removed]",
      "text/plain": [
       "<matplotlib.figure.Figure at 0x542ed5c0>"
      ]
     },
     "metadata": {},
     "output_type": "display_data"
    },
    {
     "data": {
      "image/png": "[encoded data removed]",
      "text/plain": [
       "<matplotlib.figure.Figure at 0x4eeb6940>"
      ]
     },
     "metadata": {},
     "output_type": "display_data"
    },
    {
     "name": "stdout",
     "output_type": "stream",
     "text": [
      "9\n"
     ]
    }
   ],
   "source": [
    "depth_values = depths.values()\n",
    "num_bins = 50\n",
    "plt.figure(figsize = (16,5))\n",
    "n, bins, patches = plt.hist(depth_values, num_bins, facecolor='blue')\n",
    "plt.show()\n",
    "\n",
    "plt.figure(figsize = (16,5))\n",
    "n, bins, patches = plt.hist(depth_values, num_bins, facecolor='blue')\n",
    "plt.yscale('log', nonposy = 'clip')\n",
    "plt.show()\n",
    "print max(depth_values)"
   ]
  },
  {
   "cell_type": "markdown",
   "metadata": {},
   "source": [
    "Сверху приведена гистограмма с абсолютной и логарифмической шкалами. Так более информативно. Теперь займемся анализом **in степеней вершин**:"
   ]
  },
  {
   "cell_type": "code",
   "execution_count": 64,
   "metadata": {
    "collapsed": false
   },
   "outputs": [],
   "source": [
    "amount_in = dict()\n",
    "amount_out = dict()\n",
    "\n",
    "for key, value in adj_list_in.items():\n",
    "    amount_in[key] = len(value)\n",
    "for key, value in adj_list_out.items():\n",
    "    amount_out[key] = len(value)"
   ]
  },
  {
   "cell_type": "code",
   "execution_count": 126,
   "metadata": {
    "collapsed": false
   },
   "outputs": [
    {
     "data": {
      "image/png": "[encoded data removed]",
      "text/plain": [
       "<matplotlib.figure.Figure at 0x4f7a8d68>"
      ]
     },
     "metadata": {},
     "output_type": "display_data"
    }
   ],
   "source": [
    "num_bins = 50\n",
    "plt.figure(figsize = (16,5))\n",
    "n, bins, patches = plt.hist(amount_in.values(), num_bins, facecolor='blue', range = (0, 15000))\n",
    "plt.yscale('log', nonposy = 'clip')\n",
    "plt.show()"
   ]
  },
  {
   "cell_type": "code",
   "execution_count": 79,
   "metadata": {
    "collapsed": true
   },
   "outputs": [],
   "source": [
    "import operator\n",
    "sorted_amount_in = sorted(amount_in.items(), key=operator.itemgetter(1), reverse = True)"
   ]
  },
  {
   "cell_type": "code",
   "execution_count": 80,
   "metadata": {
    "collapsed": false
   },
   "outputs": [
    {
     "name": "stdout",
     "output_type": "stream",
     "text": [
      "https://simple.wikipedia.org/wiki/Main_Page   342947\n",
      "https://simple.wikipedia.org/wiki/United_States   35956\n",
      "https://simple.wikipedia.org/wiki/Multimedia   29222\n",
      "https://simple.wikipedia.org/wiki/France   23047\n",
      "https://simple.wikipedia.org/wiki/Category:Living_people   17618\n",
      "https://simple.wikipedia.org/wiki/International_Standard_Book_Number   17452\n",
      "https://simple.wikipedia.org/wiki/Category:People_stubs   15227\n",
      "https://simple.wikipedia.org/wiki/Germany   14951\n",
      "https://simple.wikipedia.org/wiki/Category:France_geography_stubs   14156\n",
      "https://simple.wikipedia.org/wiki/United_Kingdom   14043\n"
     ]
    }
   ],
   "source": [
    "for url, amount in sorted_amount_in[:10]:\n",
    "    print '{0}   {1}'.format(url, amount)"
   ]
  },
  {
   "cell_type": "markdown",
   "metadata": {},
   "source": [
    "Как видно, встречаются ссылки типа **Category**. По идее, это страницы со ссылками, не являющиеся статьями. Но для построения графа они важны, поэтому я их оставил. Теперь анализ **out степеней**:"
   ]
  },
  {
   "cell_type": "code",
   "execution_count": 85,
   "metadata": {
    "collapsed": false
   },
   "outputs": [
    {
     "data": {
      "image/png": "[encoded data removed]",
      "text/plain": [
       "<matplotlib.figure.Figure at 0x562435f8>"
      ]
     },
     "metadata": {},
     "output_type": "display_data"
    }
   ],
   "source": [
    "num_bins = 50\n",
    "plt.figure(figsize = (16,5))\n",
    "n, bins, patches = plt.hist(amount_out.values(), num_bins, facecolor='blue')\n",
    "plt.yscale('log', nonposy = 'clip')\n",
    "plt.show()"
   ]
  },
  {
   "cell_type": "code",
   "execution_count": 86,
   "metadata": {
    "collapsed": true
   },
   "outputs": [],
   "source": [
    "sorted_amount_out = sorted(amount_out.items(), key=operator.itemgetter(1), reverse = True)"
   ]
  },
  {
   "cell_type": "code",
   "execution_count": 89,
   "metadata": {
    "collapsed": false
   },
   "outputs": [
    {
     "name": "stdout",
     "output_type": "stream",
     "text": [
      "https://simple.wikipedia.org/wiki/Deaths_in_2013   3181\n",
      "https://simple.wikipedia.org/wiki/Deaths_in_January_2012   2488\n",
      "https://simple.wikipedia.org/wiki/Deaths_in_February_2012   2488\n",
      "https://simple.wikipedia.org/wiki/Deaths_in_March_2012   2488\n",
      "https://simple.wikipedia.org/wiki/Deaths_in_2012   2488\n",
      "https://simple.wikipedia.org/wiki/Deaths_in_April_2012   2488\n",
      "https://simple.wikipedia.org/wiki/Deaths_in_May_2012   2488\n",
      "https://simple.wikipedia.org/wiki/List_of_Medal_of_Honor_recipients_for_World_War_II   2160\n",
      "https://simple.wikipedia.org/wiki/2006_in_movies   2135\n",
      "https://simple.wikipedia.org/wiki/2006_in_film   2135\n"
     ]
    }
   ],
   "source": [
    "for url, amount in sorted_amount_out[:10]:\n",
    "    print '{0}   {1}'.format(url, amount)"
   ]
  },
  {
   "cell_type": "markdown",
   "metadata": {},
   "source": [
    "**Интересно**: Заметим, что со 2-го по 7-е место числа одинаковые. Это потому, что ссылки на самом деле одинаковые и все выходящие ребра повторяются. Такие вещи мы будем находить во втором задании. Теперь посчитаем **Page Rank**:"
   ]
  },
  {
   "cell_type": "code",
   "execution_count": 115,
   "metadata": {
    "collapsed": true
   },
   "outputs": [],
   "source": [
    "amount_of_documents = len(os.listdir('docs'))\n",
    "amount_of_documents_without_cat = len(os.listdir('txt_docs'))"
   ]
  },
  {
   "cell_type": "code",
   "execution_count": 116,
   "metadata": {
    "collapsed": true
   },
   "outputs": [],
   "source": [
    "import copy\n",
    "\n",
    "damping_factor = 0.85\n",
    "\n",
    "empty_graph = dict()\n",
    "prev_graph = dict()\n",
    "current_graph = dict()\n",
    "for key in adj_list_out.keys():\n",
    "    empty_graph[key] = (1 - damping_factor) / amount_of_documents\n",
    "    current_graph[key] = 1 / amount_of_documents\n",
    "    prev_graph[key] = 1"
   ]
  },
  {
   "cell_type": "code",
   "execution_count": 117,
   "metadata": {
    "collapsed": false
   },
   "outputs": [
    {
     "name": "stdout",
     "output_type": "stream",
     "text": [
      "Processing 99"
     ]
    }
   ],
   "source": [
    "amount_of_iterations = 100\n",
    "\n",
    "for i in xrange(amount_of_iterations):\n",
    "    sys.stdout.write(\"\\rProcessing {0}\".format(i))\n",
    "    for key, value in adj_list_out.items():\n",
    "        weight = damping_factor * float(prev_graph[key]) / len(value)\n",
    "        for elem in value:\n",
    "            current_graph[elem] += weight\n",
    "    prev_graph = copy.copy(current_graph)\n",
    "    current_graph = copy.copy(empty_graph)"
   ]
  },
  {
   "cell_type": "code",
   "execution_count": 118,
   "metadata": {
    "collapsed": true
   },
   "outputs": [],
   "source": [
    "graph = copy.copy(prev_graph)"
   ]
  },
  {
   "cell_type": "code",
   "execution_count": 119,
   "metadata": {
    "collapsed": true
   },
   "outputs": [],
   "source": [
    "sorted_page_rank = sorted(graph.items(), key=operator.itemgetter(1), reverse = True)"
   ]
  },
  {
   "cell_type": "code",
   "execution_count": 120,
   "metadata": {
    "collapsed": false
   },
   "outputs": [
    {
     "name": "stdout",
     "output_type": "stream",
     "text": [
      "https://simple.wikipedia.org/wiki/Main_Page   0.0569189798558\n",
      "https://simple.wikipedia.org/wiki/Multimedia   0.00543725290564\n",
      "https://simple.wikipedia.org/wiki/United_States   0.00386158705006\n",
      "https://simple.wikipedia.org/wiki/Category:Stubs   0.00226302510782\n",
      "https://simple.wikipedia.org/wiki/Category:Geography_stubs   0.0022450975919\n",
      "https://simple.wikipedia.org/wiki/United_Kingdom   0.00190445104874\n",
      "https://simple.wikipedia.org/wiki/International_Standard_Book_Number   0.00172751495906\n",
      "https://simple.wikipedia.org/wiki/Category:Technology_stubs   0.00170271930905\n",
      "https://simple.wikipedia.org/wiki/France   0.00168571668659\n",
      "https://simple.wikipedia.org/wiki/Category:People_stubs   0.00161654809608\n",
      "https://simple.wikipedia.org/wiki/Category:Music_stubs   0.00156174338675\n",
      "https://simple.wikipedia.org/wiki/Category:Europe_stubs   0.00132814971295\n",
      "https://simple.wikipedia.org/wiki/Category:Biology_stubs   0.00132269545345\n",
      "https://simple.wikipedia.org/wiki/Canada   0.0012774244499\n",
      "https://simple.wikipedia.org/wiki/Definition   0.00125067878329\n",
      "https://simple.wikipedia.org/wiki/Country   0.00124275184743\n",
      "https://simple.wikipedia.org/wiki/English_language   0.00116766143595\n",
      "https://simple.wikipedia.org/wiki/Category:Living_people   0.00116621998378\n",
      "https://simple.wikipedia.org/wiki/Category:United_States_geography_stubs   0.00110224691137\n",
      "https://simple.wikipedia.org/wiki/Germany   0.00107695877353\n"
     ]
    }
   ],
   "source": [
    "for url, page_rank in sorted_page_rank[:20]:\n",
    "    print '{0}   {1}'.format(url, page_rank)"
   ]
  },
  {
   "cell_type": "markdown",
   "metadata": {},
   "source": [
    "Как видно, страницы-категории в топе по Page Rank. Можно их не учитывать. Тогда получаются такие результаты:"
   ]
  },
  {
   "cell_type": "code",
   "execution_count": 121,
   "metadata": {
    "collapsed": true
   },
   "outputs": [],
   "source": [
    "damping_factor = 0.85\n",
    "\n",
    "empty_graph = dict()\n",
    "prev_graph = dict()\n",
    "current_graph = dict()\n",
    "for key in adj_list_out.keys():\n",
    "    empty_graph[key] = (1 - damping_factor) / amount_of_documents_without_cat\n",
    "    current_graph[key] = 1 / amount_of_documents_without_cat\n",
    "    prev_graph[key] = 1"
   ]
  },
  {
   "cell_type": "code",
   "execution_count": 122,
   "metadata": {
    "collapsed": false
   },
   "outputs": [
    {
     "name": "stdout",
     "output_type": "stream",
     "text": [
      "Processing 99"
     ]
    }
   ],
   "source": [
    "amount_of_iterations = 100\n",
    "\n",
    "for i in xrange(amount_of_iterations):\n",
    "    sys.stdout.write(\"\\rProcessing {0}\".format(i))\n",
    "    for key, value in adj_list_out.items():\n",
    "        if 'Category:' in key:\n",
    "            continue\n",
    "        weight = damping_factor * float(prev_graph[key])\n",
    "        counter = 0\n",
    "        for elem in value:\n",
    "            if 'Category:' not in elem:\n",
    "                counter += 1\n",
    "        \n",
    "        if counter != 0:\n",
    "            weight = weight / counter\n",
    "        for elem in value:\n",
    "            if 'Category:' not in elem:\n",
    "                current_graph[elem] += weight\n",
    "            \n",
    "    prev_graph = copy.copy(current_graph)\n",
    "    current_graph = copy.copy(empty_graph)"
   ]
  },
  {
   "cell_type": "code",
   "execution_count": 123,
   "metadata": {
    "collapsed": true
   },
   "outputs": [],
   "source": [
    "graph = copy.copy(prev_graph)"
   ]
  },
  {
   "cell_type": "code",
   "execution_count": 124,
   "metadata": {
    "collapsed": true
   },
   "outputs": [],
   "source": [
    "sorted_page_rank = sorted(graph.items(), key=operator.itemgetter(1), reverse = True)"
   ]
  },
  {
   "cell_type": "code",
   "execution_count": 125,
   "metadata": {
    "collapsed": false
   },
   "outputs": [
    {
     "name": "stdout",
     "output_type": "stream",
     "text": [
      "https://simple.wikipedia.org/wiki/Main_Page   0.0657119457636\n",
      "https://simple.wikipedia.org/wiki/United_States   0.00502085770727\n",
      "https://simple.wikipedia.org/wiki/Multimedia   0.00449821506464\n",
      "https://simple.wikipedia.org/wiki/United_Kingdom   0.00253175153131\n",
      "https://simple.wikipedia.org/wiki/International_Standard_Book_Number   0.00224984793048\n",
      "https://simple.wikipedia.org/wiki/France   0.00222964125044\n",
      "https://simple.wikipedia.org/wiki/Definition   0.00187662335594\n",
      "https://simple.wikipedia.org/wiki/Country   0.00178543063521\n",
      "https://simple.wikipedia.org/wiki/Canada   0.0016128957149\n",
      "https://simple.wikipedia.org/wiki/English_language   0.00158758396004\n",
      "https://simple.wikipedia.org/wiki/England   0.001440991184\n",
      "https://simple.wikipedia.org/wiki/Europe   0.00141760377741\n",
      "https://simple.wikipedia.org/wiki/Germany   0.00140043968244\n",
      "https://simple.wikipedia.org/wiki/Japan   0.00136592288026\n",
      "https://simple.wikipedia.org/wiki/Music   0.00128941321243\n",
      "https://simple.wikipedia.org/wiki/Government   0.00127781002402\n",
      "https://simple.wikipedia.org/wiki/Television   0.00123514798363\n",
      "https://simple.wikipedia.org/wiki/Coordinated_Universal_Time   0.00122949899592\n",
      "https://simple.wikipedia.org/wiki/Movie   0.00118803089365\n",
      "https://simple.wikipedia.org/wiki/Geographic_coordinate_system   0.00116378169874\n"
     ]
    }
   ],
   "source": [
    "for url, page_rank in sorted_page_rank[:20]:\n",
    "    print '{0}   {1}'.format(url, page_rank)"
   ]
  },
  {
   "cell_type": "markdown",
   "metadata": {},
   "source": [
    "Что можно сказать - наличие или отсутствие Category не особо повлияло на порядок остальных страниц. Хотя некоторые перестановки все же есть. И с огромным отрывом лидирует главная страница, что естественно. "
   ]
  },
  {
   "cell_type": "code",
   "execution_count": null,
   "metadata": {
    "collapsed": true
   },
   "outputs": [],
   "source": []
  }
 ],
 "metadata": {
  "kernelspec": {
   "display_name": "Python 2",
   "language": "python",
   "name": "python2"
  },
  "language_info": {
   "codemirror_mode": {
    "name": "ipython",
    "version": 2
   },
   "file_extension": ".py",
   "mimetype": "text/x-python",
   "name": "python",
   "nbconvert_exporter": "python",
   "pygments_lexer": "ipython2",
   "version": "2.7.9"
  }
 },
 "nbformat": 4,
 "nbformat_minor": 0
}
